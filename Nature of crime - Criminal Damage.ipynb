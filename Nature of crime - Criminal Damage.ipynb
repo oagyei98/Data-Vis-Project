{
 "cells": [
  {
   "cell_type": "code",
   "execution_count": 1,
   "metadata": {},
   "outputs": [],
   "source": [
    "import numpy as np\n",
    "import pandas as pd\n",
    "import matplotlib as mpl\n",
    "import matplotlib.pyplot as plt\n",
    "import seaborn as sns"
   ]
  },
  {
   "cell_type": "code",
   "execution_count": 2,
   "metadata": {},
   "outputs": [
    {
     "data": {
      "text/html": [
       "<div>\n",
       "<style scoped>\n",
       "    .dataframe tbody tr th:only-of-type {\n",
       "        vertical-align: middle;\n",
       "    }\n",
       "\n",
       "    .dataframe tbody tr th {\n",
       "        vertical-align: top;\n",
       "    }\n",
       "\n",
       "    .dataframe thead th {\n",
       "        text-align: right;\n",
       "    }\n",
       "</style>\n",
       "<table border=\"1\" class=\"dataframe\">\n",
       "  <thead>\n",
       "    <tr style=\"text-align: right;\">\n",
       "      <th></th>\n",
       "      <th>Timing of incident</th>\n",
       "      <th>Apr 09 to Mar 10</th>\n",
       "      <th>Apr 10 to Mar 11</th>\n",
       "      <th>Apr 11 to Mar 12</th>\n",
       "      <th>Apr 12 to Mar 13</th>\n",
       "      <th>Apr 13 to Mar 14</th>\n",
       "      <th>Apr 14 to Mar 15</th>\n",
       "      <th>Apr 15 to Mar 16</th>\n",
       "      <th>Apr 16 to Mar 17</th>\n",
       "      <th>Apr 17 to Mar 18</th>\n",
       "      <th>Apr 18 to Mar 19</th>\n",
       "      <th>Apr 19 to Mar 20</th>\n",
       "    </tr>\n",
       "  </thead>\n",
       "  <tbody>\n",
       "    <tr>\n",
       "      <th>0</th>\n",
       "      <td>During the week</td>\n",
       "      <td>58.858343</td>\n",
       "      <td>58.334102</td>\n",
       "      <td>59.783533</td>\n",
       "      <td>58.743735</td>\n",
       "      <td>58.088904</td>\n",
       "      <td>57.984192</td>\n",
       "      <td>62.978968</td>\n",
       "      <td>62.108873</td>\n",
       "      <td>60.500770</td>\n",
       "      <td>66.520238</td>\n",
       "      <td>64.771099</td>\n",
       "    </tr>\n",
       "    <tr>\n",
       "      <th>1</th>\n",
       "      <td>At the weekend(2)</td>\n",
       "      <td>41.141657</td>\n",
       "      <td>41.665898</td>\n",
       "      <td>40.216467</td>\n",
       "      <td>41.256265</td>\n",
       "      <td>41.911096</td>\n",
       "      <td>42.015808</td>\n",
       "      <td>37.021032</td>\n",
       "      <td>37.891127</td>\n",
       "      <td>39.499230</td>\n",
       "      <td>33.479762</td>\n",
       "      <td>35.228901</td>\n",
       "    </tr>\n",
       "    <tr>\n",
       "      <th>2</th>\n",
       "      <td>Unweighted base - number of incidents</td>\n",
       "      <td>2875.000000</td>\n",
       "      <td>2754.000000</td>\n",
       "      <td>2535.000000</td>\n",
       "      <td>1629.000000</td>\n",
       "      <td>1428.000000</td>\n",
       "      <td>1203.000000</td>\n",
       "      <td>1178.000000</td>\n",
       "      <td>1134.000000</td>\n",
       "      <td>1019.000000</td>\n",
       "      <td>1042.000000</td>\n",
       "      <td>899.000000</td>\n",
       "    </tr>\n",
       "    <tr>\n",
       "      <th>3</th>\n",
       "      <td>Morning/Afternoon(3)</td>\n",
       "      <td>21.655065</td>\n",
       "      <td>23.189633</td>\n",
       "      <td>25.246220</td>\n",
       "      <td>26.064016</td>\n",
       "      <td>25.316246</td>\n",
       "      <td>25.561608</td>\n",
       "      <td>27.241542</td>\n",
       "      <td>28.710168</td>\n",
       "      <td>31.149995</td>\n",
       "      <td>29.259815</td>\n",
       "      <td>26.740806</td>\n",
       "    </tr>\n",
       "    <tr>\n",
       "      <th>4</th>\n",
       "      <td>Morning</td>\n",
       "      <td>2.988836</td>\n",
       "      <td>3.620928</td>\n",
       "      <td>6.559761</td>\n",
       "      <td>5.248894</td>\n",
       "      <td>5.551641</td>\n",
       "      <td>4.218794</td>\n",
       "      <td>6.470947</td>\n",
       "      <td>6.371353</td>\n",
       "      <td>6.719179</td>\n",
       "      <td>5.422605</td>\n",
       "      <td>6.891581</td>\n",
       "    </tr>\n",
       "  </tbody>\n",
       "</table>\n",
       "</div>"
      ],
      "text/plain": [
       "                      Timing of incident  Apr 09 to Mar 10  Apr 10 to Mar 11  \\\n",
       "0                        During the week         58.858343         58.334102   \n",
       "1                      At the weekend(2)         41.141657         41.665898   \n",
       "2  Unweighted base - number of incidents       2875.000000       2754.000000   \n",
       "3                   Morning/Afternoon(3)         21.655065         23.189633   \n",
       "4                                Morning          2.988836          3.620928   \n",
       "\n",
       "   Apr 11 to Mar 12  Apr 12 to Mar 13  Apr 13 to Mar 14  Apr 14 to Mar 15  \\\n",
       "0         59.783533         58.743735         58.088904         57.984192   \n",
       "1         40.216467         41.256265         41.911096         42.015808   \n",
       "2       2535.000000       1629.000000       1428.000000       1203.000000   \n",
       "3         25.246220         26.064016         25.316246         25.561608   \n",
       "4          6.559761          5.248894          5.551641          4.218794   \n",
       "\n",
       "   Apr 15 to Mar 16  Apr 16 to Mar 17  Apr 17 to Mar 18  Apr 18 to Mar 19  \\\n",
       "0         62.978968         62.108873         60.500770         66.520238   \n",
       "1         37.021032         37.891127         39.499230         33.479762   \n",
       "2       1178.000000       1134.000000       1019.000000       1042.000000   \n",
       "3         27.241542         28.710168         31.149995         29.259815   \n",
       "4          6.470947          6.371353          6.719179          5.422605   \n",
       "\n",
       "   Apr 19 to Mar 20  \n",
       "0         64.771099  \n",
       "1         35.228901  \n",
       "2        899.000000  \n",
       "3         26.740806  \n",
       "4          6.891581  "
      ]
     },
     "execution_count": 2,
     "metadata": {},
     "output_type": "execute_result"
    }
   ],
   "source": [
    "df = pd.read_excel('noccriminaldamagetablescorrection.xls',sheet_name='Table_1a',skiprows=[0,1,2], usecols = 'A,B,C,D,E,F,G,H,I,J,K,L',names=['Timing of incident','Apr 09 to Mar 10' ,'Apr 10 to Mar 11', 'Apr 11 to Mar 12', 'Apr 12 to Mar 13', 'Apr 13 to Mar 14', 'Apr 14 to Mar 15', 'Apr 15 to Mar 16', 'Apr 16 to Mar 17', 'Apr 17 to Mar 18', 'Apr 18 to Mar 19', 'Apr 19 to Mar 20' ]);\n",
    "df.head()\n"
   ]
  },
  {
   "cell_type": "code",
   "execution_count": 3,
   "metadata": {},
   "outputs": [
    {
     "data": {
      "text/plain": [
       "dtype('O')"
      ]
     },
     "execution_count": 3,
     "metadata": {},
     "output_type": "execute_result"
    }
   ],
   "source": [
    "df['Timing of incident'].dtype"
   ]
  },
  {
   "cell_type": "code",
   "execution_count": 4,
   "metadata": {},
   "outputs": [
    {
     "data": {
      "text/plain": [
       "CategoricalDtype(categories=['Afternoon', 'At the weekend(2)', 'Dark', 'Dawn/dusk',\n",
       "                  'Daylight', 'During the week', 'Early evening(5)', 'Evening',\n",
       "                  'Evening/Night(4)', 'Evening/night (unsure which)',\n",
       "                  'Late evening(6)', 'Morning', 'Morning/Afternoon(3)',\n",
       "                  'Morning/afternoon (unsure which)', 'Night',\n",
       "                  'Unweighted base - number of incidents'],\n",
       "                 ordered=False)"
      ]
     },
     "execution_count": 4,
     "metadata": {},
     "output_type": "execute_result"
    }
   ],
   "source": [
    "df['Timing of incident']=df['Timing of incident'].astype('category')\n",
    "df['Timing of incident'].dtype"
   ]
  },
  {
   "cell_type": "code",
   "execution_count": 5,
   "metadata": {},
   "outputs": [],
   "source": [
    "df.index = df.index.astype('category')"
   ]
  },
  {
   "cell_type": "code",
   "execution_count": 6,
   "metadata": {},
   "outputs": [
    {
     "data": {
      "text/html": [
       "<div>\n",
       "<style scoped>\n",
       "    .dataframe tbody tr th:only-of-type {\n",
       "        vertical-align: middle;\n",
       "    }\n",
       "\n",
       "    .dataframe tbody tr th {\n",
       "        vertical-align: top;\n",
       "    }\n",
       "\n",
       "    .dataframe thead th {\n",
       "        text-align: right;\n",
       "    }\n",
       "</style>\n",
       "<table border=\"1\" class=\"dataframe\">\n",
       "  <thead>\n",
       "    <tr style=\"text-align: right;\">\n",
       "      <th></th>\n",
       "      <th>Timing of incident</th>\n",
       "      <th>Date</th>\n",
       "      <th>Chance of damage occuring</th>\n",
       "    </tr>\n",
       "  </thead>\n",
       "  <tbody>\n",
       "    <tr>\n",
       "      <th>0</th>\n",
       "      <td>During the week</td>\n",
       "      <td>Apr 09 to Mar 10</td>\n",
       "      <td>58.858343</td>\n",
       "    </tr>\n",
       "    <tr>\n",
       "      <th>1</th>\n",
       "      <td>At the weekend(2)</td>\n",
       "      <td>Apr 09 to Mar 10</td>\n",
       "      <td>41.141657</td>\n",
       "    </tr>\n",
       "    <tr>\n",
       "      <th>2</th>\n",
       "      <td>Unweighted base - number of incidents</td>\n",
       "      <td>Apr 09 to Mar 10</td>\n",
       "      <td>2875.000000</td>\n",
       "    </tr>\n",
       "    <tr>\n",
       "      <th>3</th>\n",
       "      <td>Morning/Afternoon(3)</td>\n",
       "      <td>Apr 09 to Mar 10</td>\n",
       "      <td>21.655065</td>\n",
       "    </tr>\n",
       "    <tr>\n",
       "      <th>4</th>\n",
       "      <td>Morning</td>\n",
       "      <td>Apr 09 to Mar 10</td>\n",
       "      <td>2.988836</td>\n",
       "    </tr>\n",
       "    <tr>\n",
       "      <th>5</th>\n",
       "      <td>Afternoon</td>\n",
       "      <td>Apr 09 to Mar 10</td>\n",
       "      <td>12.969636</td>\n",
       "    </tr>\n",
       "    <tr>\n",
       "      <th>6</th>\n",
       "      <td>Morning/afternoon (unsure which)</td>\n",
       "      <td>Apr 09 to Mar 10</td>\n",
       "      <td>5.696592</td>\n",
       "    </tr>\n",
       "    <tr>\n",
       "      <th>7</th>\n",
       "      <td>Evening/Night(4)</td>\n",
       "      <td>Apr 09 to Mar 10</td>\n",
       "      <td>78.344935</td>\n",
       "    </tr>\n",
       "    <tr>\n",
       "      <th>8</th>\n",
       "      <td>Evening</td>\n",
       "      <td>Apr 09 to Mar 10</td>\n",
       "      <td>31.872892</td>\n",
       "    </tr>\n",
       "    <tr>\n",
       "      <th>9</th>\n",
       "      <td>Early evening(5)</td>\n",
       "      <td>Apr 09 to Mar 10</td>\n",
       "      <td>18.060806</td>\n",
       "    </tr>\n",
       "    <tr>\n",
       "      <th>10</th>\n",
       "      <td>Late evening(6)</td>\n",
       "      <td>Apr 09 to Mar 10</td>\n",
       "      <td>13.812087</td>\n",
       "    </tr>\n",
       "    <tr>\n",
       "      <th>11</th>\n",
       "      <td>Night</td>\n",
       "      <td>Apr 09 to Mar 10</td>\n",
       "      <td>26.173760</td>\n",
       "    </tr>\n",
       "    <tr>\n",
       "      <th>12</th>\n",
       "      <td>Evening/night (unsure which)</td>\n",
       "      <td>Apr 09 to Mar 10</td>\n",
       "      <td>20.298282</td>\n",
       "    </tr>\n",
       "    <tr>\n",
       "      <th>13</th>\n",
       "      <td>Unweighted base - number of incidents</td>\n",
       "      <td>Apr 09 to Mar 10</td>\n",
       "      <td>2879.000000</td>\n",
       "    </tr>\n",
       "    <tr>\n",
       "      <th>14</th>\n",
       "      <td>Daylight</td>\n",
       "      <td>Apr 09 to Mar 10</td>\n",
       "      <td>25.811231</td>\n",
       "    </tr>\n",
       "    <tr>\n",
       "      <th>15</th>\n",
       "      <td>Dark</td>\n",
       "      <td>Apr 09 to Mar 10</td>\n",
       "      <td>70.368556</td>\n",
       "    </tr>\n",
       "    <tr>\n",
       "      <th>16</th>\n",
       "      <td>Dawn/dusk</td>\n",
       "      <td>Apr 09 to Mar 10</td>\n",
       "      <td>3.820213</td>\n",
       "    </tr>\n",
       "    <tr>\n",
       "      <th>17</th>\n",
       "      <td>Unweighted base - number of incidents</td>\n",
       "      <td>Apr 09 to Mar 10</td>\n",
       "      <td>2867.000000</td>\n",
       "    </tr>\n",
       "    <tr>\n",
       "      <th>18</th>\n",
       "      <td>During the week</td>\n",
       "      <td>Apr 10 to Mar 11</td>\n",
       "      <td>58.334102</td>\n",
       "    </tr>\n",
       "    <tr>\n",
       "      <th>19</th>\n",
       "      <td>At the weekend(2)</td>\n",
       "      <td>Apr 10 to Mar 11</td>\n",
       "      <td>41.665898</td>\n",
       "    </tr>\n",
       "  </tbody>\n",
       "</table>\n",
       "</div>"
      ],
      "text/plain": [
       "                       Timing of incident              Date  \\\n",
       "0                         During the week  Apr 09 to Mar 10   \n",
       "1                       At the weekend(2)  Apr 09 to Mar 10   \n",
       "2   Unweighted base - number of incidents  Apr 09 to Mar 10   \n",
       "3                    Morning/Afternoon(3)  Apr 09 to Mar 10   \n",
       "4                                 Morning  Apr 09 to Mar 10   \n",
       "5                               Afternoon  Apr 09 to Mar 10   \n",
       "6        Morning/afternoon (unsure which)  Apr 09 to Mar 10   \n",
       "7                        Evening/Night(4)  Apr 09 to Mar 10   \n",
       "8                                 Evening  Apr 09 to Mar 10   \n",
       "9                        Early evening(5)  Apr 09 to Mar 10   \n",
       "10                        Late evening(6)  Apr 09 to Mar 10   \n",
       "11                                  Night  Apr 09 to Mar 10   \n",
       "12           Evening/night (unsure which)  Apr 09 to Mar 10   \n",
       "13  Unweighted base - number of incidents  Apr 09 to Mar 10   \n",
       "14                               Daylight  Apr 09 to Mar 10   \n",
       "15                                   Dark  Apr 09 to Mar 10   \n",
       "16                              Dawn/dusk  Apr 09 to Mar 10   \n",
       "17  Unweighted base - number of incidents  Apr 09 to Mar 10   \n",
       "18                        During the week  Apr 10 to Mar 11   \n",
       "19                      At the weekend(2)  Apr 10 to Mar 11   \n",
       "\n",
       "    Chance of damage occuring  \n",
       "0                   58.858343  \n",
       "1                   41.141657  \n",
       "2                 2875.000000  \n",
       "3                   21.655065  \n",
       "4                    2.988836  \n",
       "5                   12.969636  \n",
       "6                    5.696592  \n",
       "7                   78.344935  \n",
       "8                   31.872892  \n",
       "9                   18.060806  \n",
       "10                  13.812087  \n",
       "11                  26.173760  \n",
       "12                  20.298282  \n",
       "13                2879.000000  \n",
       "14                  25.811231  \n",
       "15                  70.368556  \n",
       "16                   3.820213  \n",
       "17                2867.000000  \n",
       "18                  58.334102  \n",
       "19                  41.665898  "
      ]
     },
     "execution_count": 6,
     "metadata": {},
     "output_type": "execute_result"
    }
   ],
   "source": [
    "timingdf = pd.DataFrame.melt(df, var_name='Date', value_name = 'Chance of damage occuring', id_vars = ['Timing of incident'])\n",
    "timingdf.head(20)"
   ]
  },
  {
   "cell_type": "code",
   "execution_count": 7,
   "metadata": {},
   "outputs": [
    {
     "data": {
      "text/plain": [
       "CategoricalDtype(categories=['During the week', 'At the weekend(2)', 'Morning',\n",
       "                  'Afternoon', 'Morning/afternoon (unsure which)', 'Evening',\n",
       "                  'Night', 'Evening/night (unsure which)', 'Daylight', 'Dark',\n",
       "                  'Dawn/dusk'],\n",
       "                 ordered=True)"
      ]
     },
     "execution_count": 7,
     "metadata": {},
     "output_type": "execute_result"
    }
   ],
   "source": [
    "Timing = ['During the week','At the weekend(2)','Morning', 'Afternoon','Morning/afternoon (unsure which)', 'Evening', 'Night', 'Evening/night (unsure which)', 'Daylight', 'Dark', 'Dawn/dusk']\n",
    "timingdf['Timing of incident'] = timingdf['Timing of incident'].astype(pd.CategoricalDtype(categories = Timing,ordered = True))\n",
    "timingdf['Timing of incident'].dtype"
   ]
  },
  {
   "cell_type": "code",
   "execution_count": 8,
   "metadata": {},
   "outputs": [
    {
     "data": {
      "text/plain": [
       "CategoricalDtype(categories=[  0,   1,   2,   3,   4,   5,   6,   7,   8,   9,\n",
       "                  ...\n",
       "                  188, 189, 190, 191, 192, 193, 194, 195, 196, 197],\n",
       "                 ordered=False)"
      ]
     },
     "execution_count": 8,
     "metadata": {},
     "output_type": "execute_result"
    }
   ],
   "source": [
    "timingdf.index = timingdf.index.astype('category')\n",
    "\n",
    "timingdf.index.dtype"
   ]
  },
  {
   "cell_type": "code",
   "execution_count": 9,
   "metadata": {},
   "outputs": [
    {
     "data": {
      "text/plain": [
       "CategoricalDtype(categories=['Apr 09 to Mar 10', 'Apr 10 to Mar 11', 'Apr 11 to Mar 12',\n",
       "                  'Apr 12 to Mar 13', 'Apr 13 to Mar 14', 'Apr 14 to Mar 15',\n",
       "                  'Apr 15 to Mar 16', 'Apr 16 to Mar 17', 'Apr 17 to Mar 18',\n",
       "                  'Apr 18 to Mar 19', 'Apr 19 to Mar 20'],\n",
       "                 ordered=False)"
      ]
     },
     "execution_count": 9,
     "metadata": {},
     "output_type": "execute_result"
    }
   ],
   "source": [
    "timingdf['Date'] = timingdf['Date'].astype('category')\n",
    "timingdf['Date'].dtype"
   ]
  },
  {
   "cell_type": "code",
   "execution_count": 10,
   "metadata": {},
   "outputs": [
    {
     "data": {
      "text/html": [
       "<div>\n",
       "<style scoped>\n",
       "    .dataframe tbody tr th:only-of-type {\n",
       "        vertical-align: middle;\n",
       "    }\n",
       "\n",
       "    .dataframe tbody tr th {\n",
       "        vertical-align: top;\n",
       "    }\n",
       "\n",
       "    .dataframe thead th {\n",
       "        text-align: right;\n",
       "    }\n",
       "</style>\n",
       "<table border=\"1\" class=\"dataframe\">\n",
       "  <thead>\n",
       "    <tr style=\"text-align: right;\">\n",
       "      <th></th>\n",
       "      <th>Timing of incident</th>\n",
       "      <th>Date</th>\n",
       "      <th>Chance of damage occuring</th>\n",
       "    </tr>\n",
       "  </thead>\n",
       "  <tbody>\n",
       "    <tr>\n",
       "      <th>0</th>\n",
       "      <td>During the week</td>\n",
       "      <td>Apr 09 to Mar 10</td>\n",
       "      <td>58.858343</td>\n",
       "    </tr>\n",
       "    <tr>\n",
       "      <th>1</th>\n",
       "      <td>At the weekend(2)</td>\n",
       "      <td>Apr 09 to Mar 10</td>\n",
       "      <td>41.141657</td>\n",
       "    </tr>\n",
       "    <tr>\n",
       "      <th>4</th>\n",
       "      <td>Morning</td>\n",
       "      <td>Apr 09 to Mar 10</td>\n",
       "      <td>2.988836</td>\n",
       "    </tr>\n",
       "    <tr>\n",
       "      <th>5</th>\n",
       "      <td>Afternoon</td>\n",
       "      <td>Apr 09 to Mar 10</td>\n",
       "      <td>12.969636</td>\n",
       "    </tr>\n",
       "    <tr>\n",
       "      <th>6</th>\n",
       "      <td>Morning/afternoon (unsure which)</td>\n",
       "      <td>Apr 09 to Mar 10</td>\n",
       "      <td>5.696592</td>\n",
       "    </tr>\n",
       "    <tr>\n",
       "      <th>8</th>\n",
       "      <td>Evening</td>\n",
       "      <td>Apr 09 to Mar 10</td>\n",
       "      <td>31.872892</td>\n",
       "    </tr>\n",
       "    <tr>\n",
       "      <th>11</th>\n",
       "      <td>Night</td>\n",
       "      <td>Apr 09 to Mar 10</td>\n",
       "      <td>26.173760</td>\n",
       "    </tr>\n",
       "    <tr>\n",
       "      <th>12</th>\n",
       "      <td>Evening/night (unsure which)</td>\n",
       "      <td>Apr 09 to Mar 10</td>\n",
       "      <td>20.298282</td>\n",
       "    </tr>\n",
       "    <tr>\n",
       "      <th>14</th>\n",
       "      <td>Daylight</td>\n",
       "      <td>Apr 09 to Mar 10</td>\n",
       "      <td>25.811231</td>\n",
       "    </tr>\n",
       "    <tr>\n",
       "      <th>15</th>\n",
       "      <td>Dark</td>\n",
       "      <td>Apr 09 to Mar 10</td>\n",
       "      <td>70.368556</td>\n",
       "    </tr>\n",
       "    <tr>\n",
       "      <th>16</th>\n",
       "      <td>Dawn/dusk</td>\n",
       "      <td>Apr 09 to Mar 10</td>\n",
       "      <td>3.820213</td>\n",
       "    </tr>\n",
       "    <tr>\n",
       "      <th>18</th>\n",
       "      <td>During the week</td>\n",
       "      <td>Apr 10 to Mar 11</td>\n",
       "      <td>58.334102</td>\n",
       "    </tr>\n",
       "    <tr>\n",
       "      <th>19</th>\n",
       "      <td>At the weekend(2)</td>\n",
       "      <td>Apr 10 to Mar 11</td>\n",
       "      <td>41.665898</td>\n",
       "    </tr>\n",
       "    <tr>\n",
       "      <th>22</th>\n",
       "      <td>Morning</td>\n",
       "      <td>Apr 10 to Mar 11</td>\n",
       "      <td>3.620928</td>\n",
       "    </tr>\n",
       "    <tr>\n",
       "      <th>23</th>\n",
       "      <td>Afternoon</td>\n",
       "      <td>Apr 10 to Mar 11</td>\n",
       "      <td>12.974040</td>\n",
       "    </tr>\n",
       "    <tr>\n",
       "      <th>24</th>\n",
       "      <td>Morning/afternoon (unsure which)</td>\n",
       "      <td>Apr 10 to Mar 11</td>\n",
       "      <td>6.594665</td>\n",
       "    </tr>\n",
       "    <tr>\n",
       "      <th>26</th>\n",
       "      <td>Evening</td>\n",
       "      <td>Apr 10 to Mar 11</td>\n",
       "      <td>30.960328</td>\n",
       "    </tr>\n",
       "    <tr>\n",
       "      <th>29</th>\n",
       "      <td>Night</td>\n",
       "      <td>Apr 10 to Mar 11</td>\n",
       "      <td>27.950257</td>\n",
       "    </tr>\n",
       "    <tr>\n",
       "      <th>30</th>\n",
       "      <td>Evening/night (unsure which)</td>\n",
       "      <td>Apr 10 to Mar 11</td>\n",
       "      <td>17.899782</td>\n",
       "    </tr>\n",
       "    <tr>\n",
       "      <th>32</th>\n",
       "      <td>Daylight</td>\n",
       "      <td>Apr 10 to Mar 11</td>\n",
       "      <td>27.266088</td>\n",
       "    </tr>\n",
       "  </tbody>\n",
       "</table>\n",
       "</div>"
      ],
      "text/plain": [
       "                  Timing of incident              Date  \\\n",
       "0                    During the week  Apr 09 to Mar 10   \n",
       "1                  At the weekend(2)  Apr 09 to Mar 10   \n",
       "4                            Morning  Apr 09 to Mar 10   \n",
       "5                          Afternoon  Apr 09 to Mar 10   \n",
       "6   Morning/afternoon (unsure which)  Apr 09 to Mar 10   \n",
       "8                            Evening  Apr 09 to Mar 10   \n",
       "11                             Night  Apr 09 to Mar 10   \n",
       "12      Evening/night (unsure which)  Apr 09 to Mar 10   \n",
       "14                          Daylight  Apr 09 to Mar 10   \n",
       "15                              Dark  Apr 09 to Mar 10   \n",
       "16                         Dawn/dusk  Apr 09 to Mar 10   \n",
       "18                   During the week  Apr 10 to Mar 11   \n",
       "19                 At the weekend(2)  Apr 10 to Mar 11   \n",
       "22                           Morning  Apr 10 to Mar 11   \n",
       "23                         Afternoon  Apr 10 to Mar 11   \n",
       "24  Morning/afternoon (unsure which)  Apr 10 to Mar 11   \n",
       "26                           Evening  Apr 10 to Mar 11   \n",
       "29                             Night  Apr 10 to Mar 11   \n",
       "30      Evening/night (unsure which)  Apr 10 to Mar 11   \n",
       "32                          Daylight  Apr 10 to Mar 11   \n",
       "\n",
       "    Chance of damage occuring  \n",
       "0                   58.858343  \n",
       "1                   41.141657  \n",
       "4                    2.988836  \n",
       "5                   12.969636  \n",
       "6                    5.696592  \n",
       "8                   31.872892  \n",
       "11                  26.173760  \n",
       "12                  20.298282  \n",
       "14                  25.811231  \n",
       "15                  70.368556  \n",
       "16                   3.820213  \n",
       "18                  58.334102  \n",
       "19                  41.665898  \n",
       "22                   3.620928  \n",
       "23                  12.974040  \n",
       "24                   6.594665  \n",
       "26                  30.960328  \n",
       "29                  27.950257  \n",
       "30                  17.899782  \n",
       "32                  27.266088  "
      ]
     },
     "execution_count": 10,
     "metadata": {},
     "output_type": "execute_result"
    }
   ],
   "source": [
    "timingdf.dropna(inplace = True)\n",
    "timingdf.head(20)"
   ]
  },
  {
   "cell_type": "code",
   "execution_count": 11,
   "metadata": {},
   "outputs": [
    {
     "data": {
      "text/html": [
       "<div>\n",
       "<style scoped>\n",
       "    .dataframe tbody tr th:only-of-type {\n",
       "        vertical-align: middle;\n",
       "    }\n",
       "\n",
       "    .dataframe tbody tr th {\n",
       "        vertical-align: top;\n",
       "    }\n",
       "\n",
       "    .dataframe thead th {\n",
       "        text-align: right;\n",
       "    }\n",
       "</style>\n",
       "<table border=\"1\" class=\"dataframe\">\n",
       "  <thead>\n",
       "    <tr style=\"text-align: right;\">\n",
       "      <th></th>\n",
       "      <th>Timing of incident</th>\n",
       "      <th>Date</th>\n",
       "      <th>Number of incidents</th>\n",
       "    </tr>\n",
       "  </thead>\n",
       "  <tbody>\n",
       "    <tr>\n",
       "      <th>0</th>\n",
       "      <td>During the week</td>\n",
       "      <td>Apr 09 to Mar 10</td>\n",
       "      <td>58.858343</td>\n",
       "    </tr>\n",
       "    <tr>\n",
       "      <th>1</th>\n",
       "      <td>At the weekend(2)</td>\n",
       "      <td>Apr 09 to Mar 10</td>\n",
       "      <td>41.141657</td>\n",
       "    </tr>\n",
       "    <tr>\n",
       "      <th>2</th>\n",
       "      <td>Unweighted base - number of incidents</td>\n",
       "      <td>Apr 09 to Mar 10</td>\n",
       "      <td>2875.000000</td>\n",
       "    </tr>\n",
       "    <tr>\n",
       "      <th>3</th>\n",
       "      <td>Morning/Afternoon(3)</td>\n",
       "      <td>Apr 09 to Mar 10</td>\n",
       "      <td>21.655065</td>\n",
       "    </tr>\n",
       "    <tr>\n",
       "      <th>4</th>\n",
       "      <td>Morning</td>\n",
       "      <td>Apr 09 to Mar 10</td>\n",
       "      <td>2.988836</td>\n",
       "    </tr>\n",
       "    <tr>\n",
       "      <th>5</th>\n",
       "      <td>Afternoon</td>\n",
       "      <td>Apr 09 to Mar 10</td>\n",
       "      <td>12.969636</td>\n",
       "    </tr>\n",
       "    <tr>\n",
       "      <th>6</th>\n",
       "      <td>Morning/afternoon (unsure which)</td>\n",
       "      <td>Apr 09 to Mar 10</td>\n",
       "      <td>5.696592</td>\n",
       "    </tr>\n",
       "    <tr>\n",
       "      <th>7</th>\n",
       "      <td>Evening/Night(4)</td>\n",
       "      <td>Apr 09 to Mar 10</td>\n",
       "      <td>78.344935</td>\n",
       "    </tr>\n",
       "    <tr>\n",
       "      <th>8</th>\n",
       "      <td>Evening</td>\n",
       "      <td>Apr 09 to Mar 10</td>\n",
       "      <td>31.872892</td>\n",
       "    </tr>\n",
       "    <tr>\n",
       "      <th>9</th>\n",
       "      <td>Early evening(5)</td>\n",
       "      <td>Apr 09 to Mar 10</td>\n",
       "      <td>18.060806</td>\n",
       "    </tr>\n",
       "    <tr>\n",
       "      <th>10</th>\n",
       "      <td>Late evening(6)</td>\n",
       "      <td>Apr 09 to Mar 10</td>\n",
       "      <td>13.812087</td>\n",
       "    </tr>\n",
       "    <tr>\n",
       "      <th>11</th>\n",
       "      <td>Night</td>\n",
       "      <td>Apr 09 to Mar 10</td>\n",
       "      <td>26.173760</td>\n",
       "    </tr>\n",
       "    <tr>\n",
       "      <th>12</th>\n",
       "      <td>Evening/night (unsure which)</td>\n",
       "      <td>Apr 09 to Mar 10</td>\n",
       "      <td>20.298282</td>\n",
       "    </tr>\n",
       "    <tr>\n",
       "      <th>13</th>\n",
       "      <td>Unweighted base - number of incidents</td>\n",
       "      <td>Apr 09 to Mar 10</td>\n",
       "      <td>2879.000000</td>\n",
       "    </tr>\n",
       "    <tr>\n",
       "      <th>14</th>\n",
       "      <td>Daylight</td>\n",
       "      <td>Apr 09 to Mar 10</td>\n",
       "      <td>25.811231</td>\n",
       "    </tr>\n",
       "    <tr>\n",
       "      <th>15</th>\n",
       "      <td>Dark</td>\n",
       "      <td>Apr 09 to Mar 10</td>\n",
       "      <td>70.368556</td>\n",
       "    </tr>\n",
       "    <tr>\n",
       "      <th>16</th>\n",
       "      <td>Dawn/dusk</td>\n",
       "      <td>Apr 09 to Mar 10</td>\n",
       "      <td>3.820213</td>\n",
       "    </tr>\n",
       "    <tr>\n",
       "      <th>17</th>\n",
       "      <td>Unweighted base - number of incidents</td>\n",
       "      <td>Apr 09 to Mar 10</td>\n",
       "      <td>2867.000000</td>\n",
       "    </tr>\n",
       "    <tr>\n",
       "      <th>18</th>\n",
       "      <td>During the week</td>\n",
       "      <td>Apr 10 to Mar 11</td>\n",
       "      <td>58.334102</td>\n",
       "    </tr>\n",
       "    <tr>\n",
       "      <th>19</th>\n",
       "      <td>At the weekend(2)</td>\n",
       "      <td>Apr 10 to Mar 11</td>\n",
       "      <td>41.665898</td>\n",
       "    </tr>\n",
       "  </tbody>\n",
       "</table>\n",
       "</div>"
      ],
      "text/plain": [
       "                       Timing of incident              Date  \\\n",
       "0                         During the week  Apr 09 to Mar 10   \n",
       "1                       At the weekend(2)  Apr 09 to Mar 10   \n",
       "2   Unweighted base - number of incidents  Apr 09 to Mar 10   \n",
       "3                    Morning/Afternoon(3)  Apr 09 to Mar 10   \n",
       "4                                 Morning  Apr 09 to Mar 10   \n",
       "5                               Afternoon  Apr 09 to Mar 10   \n",
       "6        Morning/afternoon (unsure which)  Apr 09 to Mar 10   \n",
       "7                        Evening/Night(4)  Apr 09 to Mar 10   \n",
       "8                                 Evening  Apr 09 to Mar 10   \n",
       "9                        Early evening(5)  Apr 09 to Mar 10   \n",
       "10                        Late evening(6)  Apr 09 to Mar 10   \n",
       "11                                  Night  Apr 09 to Mar 10   \n",
       "12           Evening/night (unsure which)  Apr 09 to Mar 10   \n",
       "13  Unweighted base - number of incidents  Apr 09 to Mar 10   \n",
       "14                               Daylight  Apr 09 to Mar 10   \n",
       "15                                   Dark  Apr 09 to Mar 10   \n",
       "16                              Dawn/dusk  Apr 09 to Mar 10   \n",
       "17  Unweighted base - number of incidents  Apr 09 to Mar 10   \n",
       "18                        During the week  Apr 10 to Mar 11   \n",
       "19                      At the weekend(2)  Apr 10 to Mar 11   \n",
       "\n",
       "    Number of incidents  \n",
       "0             58.858343  \n",
       "1             41.141657  \n",
       "2           2875.000000  \n",
       "3             21.655065  \n",
       "4              2.988836  \n",
       "5             12.969636  \n",
       "6              5.696592  \n",
       "7             78.344935  \n",
       "8             31.872892  \n",
       "9             18.060806  \n",
       "10            13.812087  \n",
       "11            26.173760  \n",
       "12            20.298282  \n",
       "13          2879.000000  \n",
       "14            25.811231  \n",
       "15            70.368556  \n",
       "16             3.820213  \n",
       "17          2867.000000  \n",
       "18            58.334102  \n",
       "19            41.665898  "
      ]
     },
     "execution_count": 11,
     "metadata": {},
     "output_type": "execute_result"
    }
   ],
   "source": [
    "incidentdf = pd.DataFrame.melt(df, var_name='Date', value_name = 'Number of incidents', id_vars = ['Timing of incident'])\n",
    "incidentdf.head(20)"
   ]
  },
  {
   "cell_type": "code",
   "execution_count": 12,
   "metadata": {},
   "outputs": [
    {
     "data": {
      "text/plain": [
       "CategoricalDtype(categories=['Unweighted base - number of incidents'], ordered=True)"
      ]
     },
     "execution_count": 12,
     "metadata": {},
     "output_type": "execute_result"
    }
   ],
   "source": [
    "noofincidents = ['Unweighted base - number of incidents']\n",
    "incidentdf['Timing of incident'] = incidentdf['Timing of incident'].astype(pd.CategoricalDtype(categories = noofincidents,ordered = True))\n",
    "incidentdf['Timing of incident'].dtype"
   ]
  },
  {
   "cell_type": "code",
   "execution_count": 13,
   "metadata": {},
   "outputs": [
    {
     "data": {
      "text/html": [
       "<div>\n",
       "<style scoped>\n",
       "    .dataframe tbody tr th:only-of-type {\n",
       "        vertical-align: middle;\n",
       "    }\n",
       "\n",
       "    .dataframe tbody tr th {\n",
       "        vertical-align: top;\n",
       "    }\n",
       "\n",
       "    .dataframe thead th {\n",
       "        text-align: right;\n",
       "    }\n",
       "</style>\n",
       "<table border=\"1\" class=\"dataframe\">\n",
       "  <thead>\n",
       "    <tr style=\"text-align: right;\">\n",
       "      <th></th>\n",
       "      <th>Timing of incident</th>\n",
       "      <th>Date</th>\n",
       "      <th>Number of incidents</th>\n",
       "    </tr>\n",
       "  </thead>\n",
       "  <tbody>\n",
       "    <tr>\n",
       "      <th>2</th>\n",
       "      <td>Unweighted base - number of incidents</td>\n",
       "      <td>Apr 09 to Mar 10</td>\n",
       "      <td>2875.0</td>\n",
       "    </tr>\n",
       "    <tr>\n",
       "      <th>13</th>\n",
       "      <td>Unweighted base - number of incidents</td>\n",
       "      <td>Apr 09 to Mar 10</td>\n",
       "      <td>2879.0</td>\n",
       "    </tr>\n",
       "    <tr>\n",
       "      <th>17</th>\n",
       "      <td>Unweighted base - number of incidents</td>\n",
       "      <td>Apr 09 to Mar 10</td>\n",
       "      <td>2867.0</td>\n",
       "    </tr>\n",
       "    <tr>\n",
       "      <th>20</th>\n",
       "      <td>Unweighted base - number of incidents</td>\n",
       "      <td>Apr 10 to Mar 11</td>\n",
       "      <td>2754.0</td>\n",
       "    </tr>\n",
       "    <tr>\n",
       "      <th>31</th>\n",
       "      <td>Unweighted base - number of incidents</td>\n",
       "      <td>Apr 10 to Mar 11</td>\n",
       "      <td>2758.0</td>\n",
       "    </tr>\n",
       "    <tr>\n",
       "      <th>35</th>\n",
       "      <td>Unweighted base - number of incidents</td>\n",
       "      <td>Apr 10 to Mar 11</td>\n",
       "      <td>2750.0</td>\n",
       "    </tr>\n",
       "    <tr>\n",
       "      <th>38</th>\n",
       "      <td>Unweighted base - number of incidents</td>\n",
       "      <td>Apr 11 to Mar 12</td>\n",
       "      <td>2535.0</td>\n",
       "    </tr>\n",
       "    <tr>\n",
       "      <th>49</th>\n",
       "      <td>Unweighted base - number of incidents</td>\n",
       "      <td>Apr 11 to Mar 12</td>\n",
       "      <td>2502.0</td>\n",
       "    </tr>\n",
       "    <tr>\n",
       "      <th>53</th>\n",
       "      <td>Unweighted base - number of incidents</td>\n",
       "      <td>Apr 11 to Mar 12</td>\n",
       "      <td>2508.0</td>\n",
       "    </tr>\n",
       "    <tr>\n",
       "      <th>56</th>\n",
       "      <td>Unweighted base - number of incidents</td>\n",
       "      <td>Apr 12 to Mar 13</td>\n",
       "      <td>1629.0</td>\n",
       "    </tr>\n",
       "    <tr>\n",
       "      <th>67</th>\n",
       "      <td>Unweighted base - number of incidents</td>\n",
       "      <td>Apr 12 to Mar 13</td>\n",
       "      <td>1631.0</td>\n",
       "    </tr>\n",
       "    <tr>\n",
       "      <th>71</th>\n",
       "      <td>Unweighted base - number of incidents</td>\n",
       "      <td>Apr 12 to Mar 13</td>\n",
       "      <td>1605.0</td>\n",
       "    </tr>\n",
       "    <tr>\n",
       "      <th>74</th>\n",
       "      <td>Unweighted base - number of incidents</td>\n",
       "      <td>Apr 13 to Mar 14</td>\n",
       "      <td>1428.0</td>\n",
       "    </tr>\n",
       "    <tr>\n",
       "      <th>85</th>\n",
       "      <td>Unweighted base - number of incidents</td>\n",
       "      <td>Apr 13 to Mar 14</td>\n",
       "      <td>1398.0</td>\n",
       "    </tr>\n",
       "    <tr>\n",
       "      <th>89</th>\n",
       "      <td>Unweighted base - number of incidents</td>\n",
       "      <td>Apr 13 to Mar 14</td>\n",
       "      <td>1396.0</td>\n",
       "    </tr>\n",
       "    <tr>\n",
       "      <th>92</th>\n",
       "      <td>Unweighted base - number of incidents</td>\n",
       "      <td>Apr 14 to Mar 15</td>\n",
       "      <td>1203.0</td>\n",
       "    </tr>\n",
       "    <tr>\n",
       "      <th>103</th>\n",
       "      <td>Unweighted base - number of incidents</td>\n",
       "      <td>Apr 14 to Mar 15</td>\n",
       "      <td>1185.0</td>\n",
       "    </tr>\n",
       "    <tr>\n",
       "      <th>107</th>\n",
       "      <td>Unweighted base - number of incidents</td>\n",
       "      <td>Apr 14 to Mar 15</td>\n",
       "      <td>1178.0</td>\n",
       "    </tr>\n",
       "    <tr>\n",
       "      <th>110</th>\n",
       "      <td>Unweighted base - number of incidents</td>\n",
       "      <td>Apr 15 to Mar 16</td>\n",
       "      <td>1178.0</td>\n",
       "    </tr>\n",
       "    <tr>\n",
       "      <th>121</th>\n",
       "      <td>Unweighted base - number of incidents</td>\n",
       "      <td>Apr 15 to Mar 16</td>\n",
       "      <td>1158.0</td>\n",
       "    </tr>\n",
       "  </tbody>\n",
       "</table>\n",
       "</div>"
      ],
      "text/plain": [
       "                        Timing of incident              Date  \\\n",
       "2    Unweighted base - number of incidents  Apr 09 to Mar 10   \n",
       "13   Unweighted base - number of incidents  Apr 09 to Mar 10   \n",
       "17   Unweighted base - number of incidents  Apr 09 to Mar 10   \n",
       "20   Unweighted base - number of incidents  Apr 10 to Mar 11   \n",
       "31   Unweighted base - number of incidents  Apr 10 to Mar 11   \n",
       "35   Unweighted base - number of incidents  Apr 10 to Mar 11   \n",
       "38   Unweighted base - number of incidents  Apr 11 to Mar 12   \n",
       "49   Unweighted base - number of incidents  Apr 11 to Mar 12   \n",
       "53   Unweighted base - number of incidents  Apr 11 to Mar 12   \n",
       "56   Unweighted base - number of incidents  Apr 12 to Mar 13   \n",
       "67   Unweighted base - number of incidents  Apr 12 to Mar 13   \n",
       "71   Unweighted base - number of incidents  Apr 12 to Mar 13   \n",
       "74   Unweighted base - number of incidents  Apr 13 to Mar 14   \n",
       "85   Unweighted base - number of incidents  Apr 13 to Mar 14   \n",
       "89   Unweighted base - number of incidents  Apr 13 to Mar 14   \n",
       "92   Unweighted base - number of incidents  Apr 14 to Mar 15   \n",
       "103  Unweighted base - number of incidents  Apr 14 to Mar 15   \n",
       "107  Unweighted base - number of incidents  Apr 14 to Mar 15   \n",
       "110  Unweighted base - number of incidents  Apr 15 to Mar 16   \n",
       "121  Unweighted base - number of incidents  Apr 15 to Mar 16   \n",
       "\n",
       "     Number of incidents  \n",
       "2                 2875.0  \n",
       "13                2879.0  \n",
       "17                2867.0  \n",
       "20                2754.0  \n",
       "31                2758.0  \n",
       "35                2750.0  \n",
       "38                2535.0  \n",
       "49                2502.0  \n",
       "53                2508.0  \n",
       "56                1629.0  \n",
       "67                1631.0  \n",
       "71                1605.0  \n",
       "74                1428.0  \n",
       "85                1398.0  \n",
       "89                1396.0  \n",
       "92                1203.0  \n",
       "103               1185.0  \n",
       "107               1178.0  \n",
       "110               1178.0  \n",
       "121               1158.0  "
      ]
     },
     "execution_count": 13,
     "metadata": {},
     "output_type": "execute_result"
    }
   ],
   "source": [
    "incidentdf.dropna(inplace = True)\n",
    "incidentdf.head(20)"
   ]
  },
  {
   "cell_type": "code",
   "execution_count": 14,
   "metadata": {},
   "outputs": [],
   "source": [
    "weekdf = pd.DataFrame.melt(df, var_name='Date', value_name = 'Chance of damage occuring', id_vars = ['Timing of incident'])"
   ]
  },
  {
   "cell_type": "code",
   "execution_count": 15,
   "metadata": {},
   "outputs": [
    {
     "data": {
      "text/plain": [
       "CategoricalDtype(categories=['During the week', 'At the weekend(2)'], ordered=True)"
      ]
     },
     "execution_count": 15,
     "metadata": {},
     "output_type": "execute_result"
    }
   ],
   "source": [
    "week = ['During the week','At the weekend(2)']\n",
    "weekdf['Timing of incident'] = weekdf['Timing of incident'].astype(pd.CategoricalDtype(categories = week,ordered = True))\n",
    "weekdf['Timing of incident'].dtype"
   ]
  },
  {
   "cell_type": "code",
   "execution_count": 16,
   "metadata": {},
   "outputs": [
    {
     "data": {
      "text/html": [
       "<div>\n",
       "<style scoped>\n",
       "    .dataframe tbody tr th:only-of-type {\n",
       "        vertical-align: middle;\n",
       "    }\n",
       "\n",
       "    .dataframe tbody tr th {\n",
       "        vertical-align: top;\n",
       "    }\n",
       "\n",
       "    .dataframe thead th {\n",
       "        text-align: right;\n",
       "    }\n",
       "</style>\n",
       "<table border=\"1\" class=\"dataframe\">\n",
       "  <thead>\n",
       "    <tr style=\"text-align: right;\">\n",
       "      <th></th>\n",
       "      <th>Timing of incident</th>\n",
       "      <th>Date</th>\n",
       "      <th>Chance of damage occuring</th>\n",
       "    </tr>\n",
       "  </thead>\n",
       "  <tbody>\n",
       "    <tr>\n",
       "      <th>0</th>\n",
       "      <td>During the week</td>\n",
       "      <td>Apr 09 to Mar 10</td>\n",
       "      <td>58.858343</td>\n",
       "    </tr>\n",
       "    <tr>\n",
       "      <th>1</th>\n",
       "      <td>At the weekend(2)</td>\n",
       "      <td>Apr 09 to Mar 10</td>\n",
       "      <td>41.141657</td>\n",
       "    </tr>\n",
       "    <tr>\n",
       "      <th>18</th>\n",
       "      <td>During the week</td>\n",
       "      <td>Apr 10 to Mar 11</td>\n",
       "      <td>58.334102</td>\n",
       "    </tr>\n",
       "    <tr>\n",
       "      <th>19</th>\n",
       "      <td>At the weekend(2)</td>\n",
       "      <td>Apr 10 to Mar 11</td>\n",
       "      <td>41.665898</td>\n",
       "    </tr>\n",
       "    <tr>\n",
       "      <th>36</th>\n",
       "      <td>During the week</td>\n",
       "      <td>Apr 11 to Mar 12</td>\n",
       "      <td>59.783533</td>\n",
       "    </tr>\n",
       "  </tbody>\n",
       "</table>\n",
       "</div>"
      ],
      "text/plain": [
       "   Timing of incident              Date  Chance of damage occuring\n",
       "0     During the week  Apr 09 to Mar 10                  58.858343\n",
       "1   At the weekend(2)  Apr 09 to Mar 10                  41.141657\n",
       "18    During the week  Apr 10 to Mar 11                  58.334102\n",
       "19  At the weekend(2)  Apr 10 to Mar 11                  41.665898\n",
       "36    During the week  Apr 11 to Mar 12                  59.783533"
      ]
     },
     "execution_count": 16,
     "metadata": {},
     "output_type": "execute_result"
    }
   ],
   "source": [
    "weekdf.dropna(inplace = True)\n",
    "weekdf.head()"
   ]
  },
  {
   "cell_type": "code",
   "execution_count": 17,
   "metadata": {},
   "outputs": [],
   "source": [
    "weekdf = weekdf.pivot_table(\n",
    "    index=['Date'], \n",
    "    columns=['Timing of incident'],\n",
    ")"
   ]
  },
  {
   "cell_type": "code",
   "execution_count": 30,
   "metadata": {},
   "outputs": [
    {
     "data": {
      "image/png": "[encoded data removed]",
      "text/plain": [
       "<Figure size 432x288 with 1 Axes>"
      ]
     },
     "metadata": {
      "needs_background": "light"
     },
     "output_type": "display_data"
    }
   ],
   "source": [
    "ax = weekdf.plot.bar()\n",
    "ax.legend(labels=weekdf.columns.levels[1])\n",
    "ax.set_xlabel('Year')\n",
    "ax.set_ylabel('Percentage')\n",
    "ax.set_title('Chances of criminal damage occuring in the week April 2009-March 2020')\n",
    "plt.savefig('criminal damage during the week.png', dpi=300, bbox_inches='tight')\n",
    "plt.show()"
   ]
  },
  {
   "cell_type": "code",
   "execution_count": 31,
   "metadata": {},
   "outputs": [],
   "source": [
    "daydf = pd.DataFrame.melt(df, var_name='Date', value_name = 'Chance of damage occuring', id_vars = ['Timing of incident'])"
   ]
  },
  {
   "cell_type": "code",
   "execution_count": 32,
   "metadata": {},
   "outputs": [
    {
     "data": {
      "text/plain": [
       "CategoricalDtype(categories=['Daylight', 'Dark', 'Dawn/dusk'], ordered=True)"
      ]
     },
     "execution_count": 32,
     "metadata": {},
     "output_type": "execute_result"
    }
   ],
   "source": [
    "day = ['Daylight', 'Dark', 'Dawn/dusk']\n",
    "daydf['Timing of incident'] = daydf['Timing of incident'].astype(pd.CategoricalDtype(categories = day,ordered = True))\n",
    "daydf['Timing of incident'].dtype"
   ]
  },
  {
   "cell_type": "code",
   "execution_count": 33,
   "metadata": {},
   "outputs": [
    {
     "data": {
      "text/html": [
       "<div>\n",
       "<style scoped>\n",
       "    .dataframe tbody tr th:only-of-type {\n",
       "        vertical-align: middle;\n",
       "    }\n",
       "\n",
       "    .dataframe tbody tr th {\n",
       "        vertical-align: top;\n",
       "    }\n",
       "\n",
       "    .dataframe thead th {\n",
       "        text-align: right;\n",
       "    }\n",
       "</style>\n",
       "<table border=\"1\" class=\"dataframe\">\n",
       "  <thead>\n",
       "    <tr style=\"text-align: right;\">\n",
       "      <th></th>\n",
       "      <th>Timing of incident</th>\n",
       "      <th>Date</th>\n",
       "      <th>Chance of damage occuring</th>\n",
       "    </tr>\n",
       "  </thead>\n",
       "  <tbody>\n",
       "    <tr>\n",
       "      <th>14</th>\n",
       "      <td>Daylight</td>\n",
       "      <td>Apr 09 to Mar 10</td>\n",
       "      <td>25.811231</td>\n",
       "    </tr>\n",
       "    <tr>\n",
       "      <th>15</th>\n",
       "      <td>Dark</td>\n",
       "      <td>Apr 09 to Mar 10</td>\n",
       "      <td>70.368556</td>\n",
       "    </tr>\n",
       "    <tr>\n",
       "      <th>16</th>\n",
       "      <td>Dawn/dusk</td>\n",
       "      <td>Apr 09 to Mar 10</td>\n",
       "      <td>3.820213</td>\n",
       "    </tr>\n",
       "    <tr>\n",
       "      <th>32</th>\n",
       "      <td>Daylight</td>\n",
       "      <td>Apr 10 to Mar 11</td>\n",
       "      <td>27.266088</td>\n",
       "    </tr>\n",
       "    <tr>\n",
       "      <th>33</th>\n",
       "      <td>Dark</td>\n",
       "      <td>Apr 10 to Mar 11</td>\n",
       "      <td>68.913011</td>\n",
       "    </tr>\n",
       "  </tbody>\n",
       "</table>\n",
       "</div>"
      ],
      "text/plain": [
       "   Timing of incident              Date  Chance of damage occuring\n",
       "14           Daylight  Apr 09 to Mar 10                  25.811231\n",
       "15               Dark  Apr 09 to Mar 10                  70.368556\n",
       "16          Dawn/dusk  Apr 09 to Mar 10                   3.820213\n",
       "32           Daylight  Apr 10 to Mar 11                  27.266088\n",
       "33               Dark  Apr 10 to Mar 11                  68.913011"
      ]
     },
     "execution_count": 33,
     "metadata": {},
     "output_type": "execute_result"
    }
   ],
   "source": [
    "daydf.dropna(inplace = True)\n",
    "daydf.head()"
   ]
  },
  {
   "cell_type": "code",
   "execution_count": 34,
   "metadata": {},
   "outputs": [],
   "source": [
    "daydf = daydf.pivot_table(\n",
    "    index=['Date'], \n",
    "    columns=['Timing of incident'],\n",
    ")"
   ]
  },
  {
   "cell_type": "code",
   "execution_count": 35,
   "metadata": {},
   "outputs": [
    {
     "data": {
      "image/png": "[encoded data removed]",
      "text/plain": [
       "<Figure size 432x288 with 1 Axes>"
      ]
     },
     "metadata": {
      "needs_background": "light"
     },
     "output_type": "display_data"
    }
   ],
   "source": [
    "daydf.head()\n",
    "ax = daydf.plot.bar(stacked=True)\n",
    "ax.legend(labels=daydf.columns.levels[1])\n",
    "ax.set_xlabel('Year')\n",
    "ax.set_ylabel('Percentage')\n",
    "ax.set_title('Chances of criminal damage occuring during the day April 2009-March 2020')\n",
    "plt.savefig('criminal damage day bar chart.png', dpi=300, bbox_inches='tight')\n",
    "plt.show()"
   ]
  },
  {
   "cell_type": "code",
   "execution_count": 24,
   "metadata": {},
   "outputs": [
    {
     "data": {
      "image/png": "[encoded data removed]",
      "text/plain": [
       "<Figure size 432x288 with 1 Axes>"
      ]
     },
     "metadata": {
      "needs_background": "light"
     },
     "output_type": "display_data"
    }
   ],
   "source": [
    "# Make one bin = 5 cm\n",
    "bin_size = 5\n",
    "start = round(timingdf['Chance of damage occuring'].min() / bin_size) * bin_size\n",
    "end = timingdf['Chance of damage occuring'].max() + bin_size\n",
    "bins = np.arange(start, end, bin_size)\n",
    "ax = df.plot.hist(legend=None, bins=bins)\n",
    "ax.set_title('Histogram of the rate of criminal damage taking place from April 2009-March 2020')\n",
    "ax.set_xlabel('percent')\n",
    "ax.set_ylabel('frequency')\n",
    "mean = timingdf['Chance of damage occuring'].mean()\n",
    "ax.axvline(mean, color='black', linestyle='dashed', linewidth=1)\n",
    "ax.annotate('mean={:0.1f}'.format(mean), xy=(mean, 7),\n",
    "xytext=(mean + 6, 7.3),\n",
    "arrowprops=dict(facecolor='black', shrink=0.05))\n",
    "plt.savefig('criminal damage histogram.png', dpi=300, bbox_inches='tight')\n",
    "plt.show()"
   ]
  },
  {
   "cell_type": "code",
   "execution_count": 25,
   "metadata": {},
   "outputs": [
    {
     "data": {
      "image/png": "[encoded data removed]",
      "text/plain": [
       "<Figure size 432x288 with 1 Axes>"
      ]
     },
     "metadata": {
      "needs_background": "light"
     },
     "output_type": "display_data"
    }
   ],
   "source": [
    "ax = timingdf['Chance of damage occuring'].plot.box()\n",
    "ax.set_title('Overall distribution of the rate of criminal damage taking place from April 2009-March 2020')\n",
    "ax.set_ylabel('cm')\n",
    "ax.set_xlabel('percentage')\n",
    "plt.savefig('overall criminal damage box plot', dpi=300, bbox_inches='tight')\n",
    "plt.show()"
   ]
  },
  {
   "cell_type": "code",
   "execution_count": 26,
   "metadata": {},
   "outputs": [
    {
     "data": {
      "image/png": "[encoded data removed]",
      "text/plain": [
       "<Figure size 360x360 with 1 Axes>"
      ]
     },
     "metadata": {
      "needs_background": "light"
     },
     "output_type": "display_data"
    }
   ],
   "source": [
    "g = sns.catplot(x='Number of incidents', y='Date', data=incidentdf)\n",
    "g.ax.set_title('Number of incidents that have a in April 2009-March 2020')\n",
    "g.ax.set_ylabel('Time')\n",
    "g.ax.set_xlabel('Number')\n",
    "plt.savefig('number of incidents cat plots.png', dpi=300, bbox_inches='tight')\n",
    "plt.show()"
   ]
  },
  {
   "cell_type": "code",
   "execution_count": 27,
   "metadata": {},
   "outputs": [
    {
     "data": {
      "image/png": "[encoded data removed]",
      "text/plain": [
       "<Figure size 432x288 with 1 Axes>"
      ]
     },
     "metadata": {
      "needs_background": "light"
     },
     "output_type": "display_data"
    }
   ],
   "source": [
    "# Calculate the median age.\n",
    "median_age = timingdf.groupby('Date').median().sort_values(\n",
    "by='Chance of damage occuring', ascending=False)\n",
    "# Create a new data type where platforms are ordered by median age.\n",
    "ordered_platform_dtype = pd.CategoricalDtype(median_age.index, ordered=True)\n",
    "# Assign new ordered categorical dtype.\n",
    "timingdf['Date'] = timingdf['Date'].astype(ordered_platform_dtype)\n",
    "ax = timingdf.boxplot(by='Date')\n",
    "ax.set_title('Distribution of the rate of criminal damage taking place each year')\n",
    "ax.figure.suptitle('')\n",
    "ax.set_xlabel('year')\n",
    "ax.set_ylabel('percentage')\n",
    "plt.xticks(rotation=90)\n",
    "plt.savefig('box plots of each year criminal damage', dpi=300, bbox_inches='tight')\n",
    "plt.show()"
   ]
  },
  {
   "cell_type": "code",
   "execution_count": 28,
   "metadata": {},
   "outputs": [
    {
     "data": {
      "image/png": "[encoded data removed]",
      "text/plain": [
       "<Figure size 360x360 with 1 Axes>"
      ]
     },
     "metadata": {
      "needs_background": "light"
     },
     "output_type": "display_data"
    }
   ],
   "source": [
    "# Calculate the median age.\n",
    "median_age = timingdf.groupby('Date').median().sort_values(\n",
    "by='Date', ascending=False)\n",
    "g = sns.catplot(x='Chance of damage occuring', y='Date', kind='box', data=timingdf,\n",
    "order=median_age.index)\n",
    "g.ax.set_title('Distribution of the rate of criminal damage taking place each year')\n",
    "g.ax.set_ylabel('year')\n",
    "g.ax.set_xlabel('percent')\n",
    "plt.savefig('box plots of each year criminal damage2.png', dpi=300, bbox_inches='tight')\n",
    "plt.show()"
   ]
  },
  {
   "cell_type": "code",
   "execution_count": 29,
   "metadata": {},
   "outputs": [
    {
     "data": {
      "image/png": "[encoded data removed]",
      "text/plain": [
       "<Figure size 360x360 with 1 Axes>"
      ]
     },
     "metadata": {
      "needs_background": "light"
     },
     "output_type": "display_data"
    }
   ],
   "source": [
    "g = sns.catplot(x='Chance of damage occuring', y='Timing of incident', data=timingdf)\n",
    "g.ax.set_title('Percentages of criminal damage occuring during Apr 09 to Mar 20')\n",
    "g.ax.set_ylabel('timing of incident')\n",
    "g.ax.set_xlabel('percent')\n",
    "plt.savefig('cat plots of each year criminal damage.png', dpi=300, bbox_inches='tight')\n",
    "plt.show()"
   ]
  },
  {
   "cell_type": "code",
   "execution_count": null,
   "metadata": {},
   "outputs": [],
   "source": []
  },
  {
   "cell_type": "code",
   "execution_count": null,
   "metadata": {},
   "outputs": [],
   "source": []
  }
 ],
 "metadata": {
  "kernelspec": {
   "display_name": "Python 3",
   "language": "python",
   "name": "python3"
  },
  "language_info": {
   "codemirror_mode": {
    "name": "ipython",
    "version": 3
   },
   "file_extension": ".py",
   "mimetype": "text/x-python",
   "name": "python",
   "nbconvert_exporter": "python",
   "pygments_lexer": "ipython3",
   "version": "3.8.3"
  }
 },
 "nbformat": 4,
 "nbformat_minor": 4
}
